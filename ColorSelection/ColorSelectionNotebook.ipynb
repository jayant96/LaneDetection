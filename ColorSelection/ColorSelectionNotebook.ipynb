{
 "cells": [
  {
   "cell_type": "code",
   "execution_count": 4,
   "metadata": {
    "collapsed": true
   },
   "outputs": [
    {
     "name": "stdout",
     "output_type": "stream",
     "text": [
      "This image is:  <class 'numpy.ndarray'> with dimensions: (540, 960, 3)\n"
     ]
    },
    {
     "data": {
      "image/png": "[encoded data removed]",
      "text/plain": [
       "<matplotlib.figure.Figure at 0x1d9109eb780>"
      ]
     },
     "metadata": {},
     "output_type": "display_data"
    }
   ],
   "source": [
    "import matplotlib.pyplot as plt\n",
    "import matplotlib.image as mpimg\n",
    "import numpy as np\n",
    "\n",
    "# Read in the image and print out some stats\n",
    "# Note: in the previous example we were reading a .jpg\n",
    "# Here we read a .png and convert to 0,255 bytescale\n",
    "image = (mpimg.imread('test.png') * 255).astype('uint8')\n",
    "print('This image is: ', type(image),\n",
    "      'with dimensions:', image.shape)\n",
    "\n",
    "# Grab the x and y size and make a copy of the image\n",
    "ysize = image.shape[0]\n",
    "xsize = image.shape[1]\n",
    "color_select = np.copy(image)\n",
    "\n",
    "# Define color selection criteria\n",
    "###### MODIFY THESE VARIABLES TO MAKE YOUR COLOR SELECTION\n",
    "red_threshold = 198\n",
    "green_threshold = 198\n",
    "blue_threshold = 203\n",
    "######\n",
    "\n",
    "rgb_threshold = [red_threshold, green_threshold, blue_threshold]\n",
    "\n",
    "# Do a boolean or with the \"|\" character to identify\n",
    "# pixels below the thresholds\n",
    "thresholds = (image[:, :, 0] < rgb_threshold[0]) \\\n",
    "             | (image[:, :, 1] < rgb_threshold[1]) \\\n",
    "             | (image[:, :, 2] < rgb_threshold[2])\n",
    "color_select[thresholds] = [0, 0, 0]\n",
    "plt.imshow(color_select)\n",
    "# Display the image\n",
    "plt.imshow(color_select)\n",
    "plt.show()  #show image in local machine\n",
    "\n",
    "# Uncomment the following code if you are running the code locally and wish to save the image\n",
    "mpimg.imsave(\"test-after-good.png\", color_select)\n",
    "\n",
    "# from IPython.display import Image\n",
    "# \n",
    "# i = Image(filename='test-after.jpg')\n",
    "# i"
   ]
  },
  {
   "cell_type": "code",
   "execution_count": null,
   "metadata": {},
   "outputs": [],
   "source": [
    ""
   ]
  }
 ],
 "metadata": {
  "kernelspec": {
   "display_name": "Python 2",
   "language": "python",
   "name": "python2"
  },
  "language_info": {
   "codemirror_mode": {
    "name": "ipython",
    "version": 2.0
   },
   "file_extension": ".py",
   "mimetype": "text/x-python",
   "name": "python",
   "nbconvert_exporter": "python",
   "pygments_lexer": "ipython2",
   "version": "2.7.6"
  }
 },
 "nbformat": 4,
 "nbformat_minor": 0
}